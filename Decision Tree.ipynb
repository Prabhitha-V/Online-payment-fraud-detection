{
 "cells": [
  {
   "cell_type": "markdown",
   "id": "2a15febc-5f70-49bf-aa10-050bf0b2dd01",
   "metadata": {},
   "source": [
    "𝐃𝐄𝐂𝐈𝐒𝐈𝐎𝐍 𝐓𝐑𝐄𝐄"
   ]
  },
  {
   "cell_type": "code",
   "execution_count": 1,
   "id": "3e67633b-51b5-4e9c-9608-0dd6b7e60874",
   "metadata": {},
   "outputs": [
    {
     "name": "stdout",
     "output_type": "stream",
     "text": [
      "Imported Sucessfully.\n"
     ]
    }
   ],
   "source": [
    "#Importing Necessary Libraries\n",
    "\n",
    "import pandas as pd\n",
    "import numpy as np\n",
    "import matplotlib as mpl\n",
    "import matplotlib.pyplot as plt\n",
    "import seaborn as sns\n",
    "import plotly.express as px\n",
    "\n",
    "from sklearn.model_selection import train_test_split\n",
    "from sklearn.tree import DecisionTreeClassifier\n",
    "import scipy.stats as st\n",
    "\n",
    "\n",
    "from sklearn.utils import resample\n",
    "\n",
    "\n",
    "from sklearn.preprocessing import StandardScaler, LabelEncoder, OneHotEncoder\n",
    "from sklearn.compose import ColumnTransformer\n",
    "from sklearn.pipeline import Pipeline\n",
    "from sklearn.neighbors import KNeighborsClassifier\n",
    "from sklearn.metrics import accuracy_score, classification_report\n",
    "\n",
    "\n",
    "%matplotlib inline\n",
    "print(\"Imported Sucessfully.\")"
   ]
  },
  {
   "cell_type": "code",
   "execution_count": 2,
   "id": "5cb31a30-e43d-42bf-8035-aa9b15219a19",
   "metadata": {},
   "outputs": [
    {
     "name": "stdout",
     "output_type": "stream",
     "text": [
      "Online Fraud Detection Data Loaded Successfully.\n"
     ]
    }
   ],
   "source": [
    "# Loading The Dataset\n",
    "\n",
    "opfd=pd.read_csv(\"C:/Users/deeks/Downloads/onlinefraud.csv\", encoding=\"latin1\")\n",
    "print(\"Online Fraud Detection Data Loaded Successfully.\")"
   ]
  },
  {
   "cell_type": "code",
   "execution_count": 3,
   "id": "31c2ab9e-dd04-4b71-aa77-803574b023bc",
   "metadata": {},
   "outputs": [
    {
     "name": "stdout",
     "output_type": "stream",
     "text": [
      "   step  type    amount     nameOrig  oldbalanceOrg  newbalanceOrig  \\\n",
      "0     1     2   9839.64  C1231006815       170136.0       160296.36   \n",
      "1     1     2   1864.28  C1666544295        21249.0        19384.72   \n",
      "2     1     4    181.00  C1305486145          181.0            0.00   \n",
      "3     1     1    181.00   C840083671          181.0            0.00   \n",
      "4     1     2  11668.14  C2048537720        41554.0        29885.86   \n",
      "\n",
      "      nameDest  oldbalanceDest  newbalanceDest   isFraud  isFlaggedFraud  \n",
      "0  M1979787155             0.0             0.0  No Fraud               0  \n",
      "1  M2044282225             0.0             0.0  No Fraud               0  \n",
      "2   C553264065             0.0             0.0     Fraud               0  \n",
      "3    C38997010         21182.0             0.0     Fraud               0  \n",
      "4  M1230701703             0.0             0.0  No Fraud               0  \n"
     ]
    }
   ],
   "source": [
    "# Convert Categorical Features To Numerical Values.\n",
    "# Change 'isFraud' Column To 'No Fraud' And 'Fraud' labels.\n",
    "# Map Transaction Types: CASH_OUT to 1, PAYMENT to 2, CASH_IN to 3, TRANSFER to 4, DEBIT to 5.\n",
    "\n",
    "opfd[\"type\"] = opfd[\"type\"].map({\"CASH_OUT\": 1, \"PAYMENT\": 2, \"CASH_IN\": 3, \"TRANSFER\": 4, \"DEBIT\": 5})\n",
    "opfd[\"isFraud\"] = opfd[\"isFraud\"].map({0: \"No Fraud\", 1: \"Fraud\"})\n",
    "print(opfd.head())"
   ]
  },
  {
   "cell_type": "code",
   "execution_count": 4,
   "id": "00e6d3d8-68c2-44c9-911d-7c9e28733533",
   "metadata": {},
   "outputs": [],
   "source": [
    "# Splitting The Data\n",
    "\n",
    "x = np.array(opfd[[\"type\", \"amount\", \"oldbalanceOrg\", \"newbalanceOrig\"]])\n",
    "y = np.array(opfd[[\"isFraud\"]])\n"
   ]
  },
  {
   "cell_type": "code",
   "execution_count": 5,
   "id": "8a95347c-f562-4e02-b2d0-b61b3a7c66cc",
   "metadata": {},
   "outputs": [
    {
     "name": "stdout",
     "output_type": "stream",
     "text": [
      "0.9994182608861508\n"
     ]
    }
   ],
   "source": [
    "# Training A Machine Learning Model\n",
    "\n",
    "xtrain, xtest, ytrain, ytest = train_test_split(x, y, test_size=0.10, random_state=42)\n",
    "model = DecisionTreeClassifier()\n",
    "model.fit(xtrain, ytrain)\n",
    "print(model.score(xtest, ytest))\n"
   ]
  },
  {
   "cell_type": "code",
   "execution_count": 6,
   "id": "3fb77531-dfa3-401f-bdeb-17ff9767c2bb",
   "metadata": {},
   "outputs": [
    {
     "name": "stdout",
     "output_type": "stream",
     "text": [
      "['No Fraud']\n"
     ]
    }
   ],
   "source": [
    "# Prediction\n",
    "\n",
    "features = np.array([[1, 8900.2, 8990.2, 0.0]])\n",
    "print(model.predict(features))"
   ]
  },
  {
   "cell_type": "code",
   "execution_count": 7,
   "id": "c889911d-3157-452d-85f0-b1585bf9d766",
   "metadata": {},
   "outputs": [
    {
     "name": "stdin",
     "output_type": "stream",
     "text": [
      "Enter transaction type (CASH_OUT, PAYMENT, CASH_IN, TRANSFER, DEBIT):  CASH_OUT\n",
      "Enter transaction amount:  18627.02\n",
      "Enter old balance of the origin account:  18627.02\n",
      "Enter new balance of the origin account:  0\n"
     ]
    }
   ],
   "source": [
    "# Get User Input For A Transaction\n",
    "\n",
    "transaction_type = input(\"Enter transaction type (CASH_OUT, PAYMENT, CASH_IN, TRANSFER, DEBIT): \")\n",
    "amount = float(input(\"Enter transaction amount: \"))\n",
    "old_balance = float(input(\"Enter old balance of the origin account: \"))\n",
    "new_balance = float(input(\"Enter new balance of the origin account: \"))\n"
   ]
  },
  {
   "cell_type": "code",
   "execution_count": 8,
   "id": "8939a945-34f9-4b2d-8a29-278847ff84f4",
   "metadata": {},
   "outputs": [
    {
     "name": "stdout",
     "output_type": "stream",
     "text": [
      "The transaction is predicted to be fraud.\n"
     ]
    }
   ],
   "source": [
    "# Map Transaction Type To Numeric Value\n",
    "\n",
    "transaction_type_mapping = {\"CASH_OUT\": 1, \"PAYMENT\": 2, \"CASH_IN\": 3, \"TRANSFER\": 4, \"DEBIT\": 5}\n",
    "mapped_transaction_type = transaction_type_mapping.get(transaction_type.upper(), -1)\n",
    "\n",
    "# Check If The Transaction Type Is Valid\n",
    "\n",
    "if mapped_transaction_type == -1:\n",
    "    print(\"Invalid transaction type.\")\n",
    "else:\n",
    "    user_input_features = np.array([[mapped_transaction_type, amount, old_balance, new_balance]])\n",
    "    prediction = model.predict(user_input_features)\n",
    "\n",
    "    # Output The Prediction\n",
    "    \n",
    "    if prediction == 0:\n",
    "        print(\"The transaction is predicted to be not a fraud.\")\n",
    "    else:\n",
    "        print(\"The transaction is predicted to be fraud.\")"
   ]
  },
  {
   "cell_type": "code",
   "execution_count": 9,
   "id": "ec06678e-b335-4ce5-bf03-67bcee95d8e9",
   "metadata": {},
   "outputs": [
    {
     "name": "stdin",
     "output_type": "stream",
     "text": [
      "Enter transaction type (CASH_OUT, PAYMENT, CASH_IN, TRANSFER, DEBIT):  PAYMENT\n",
      "Enter transaction amount:  30000\n",
      "Enter old balance of the origin account:  46789\n",
      "Enter new balance of the origin account:  6778\n"
     ]
    }
   ],
   "source": [
    "# Get User Input For A Transaction\n",
    "\n",
    "transaction_type = input(\"Enter transaction type (CASH_OUT, PAYMENT, CASH_IN, TRANSFER, DEBIT): \")\n",
    "amount = float(input(\"Enter transaction amount: \"))\n",
    "old_balance = float(input(\"Enter old balance of the origin account: \"))\n",
    "new_balance = float(input(\"Enter new balance of the origin account: \"))"
   ]
  },
  {
   "cell_type": "code",
   "execution_count": 10,
   "id": "08223121-9090-431d-9c03-c555705dee5d",
   "metadata": {},
   "outputs": [
    {
     "name": "stdout",
     "output_type": "stream",
     "text": [
      "The transaction is predicted to be not a fraud.\n"
     ]
    }
   ],
   "source": [
    "# Map Transaction Type To Numeric Value\n",
    "\n",
    "transaction_type_mapping = {\"CASH_OUT\": 1, \"PAYMENT\": 2, \"CASH_IN\": 3, \"TRANSFER\": 4, \"DEBIT\": 5}\n",
    "mapped_transaction_type = transaction_type_mapping.get(transaction_type.upper(), -1)\n",
    "\n",
    "# Check If The Transaction Type Is Valid\n",
    "\n",
    "if mapped_transaction_type == -1:\n",
    "    print(\"Invalid transaction type.\")\n",
    "else:\n",
    "    user_input_features = np.array([[mapped_transaction_type, amount, old_balance, new_balance]])\n",
    "    prediction = model.predict(user_input_features)\n",
    "\n",
    "    # Output The Prediction\n",
    "    \n",
    "    if prediction == 1:\n",
    "        print(\"The transaction is predicted to be fraud.\")\n",
    "    else:\n",
    "        print(\"The transaction is predicted to be not a fraud.\")"
   ]
  }
 ],
 "metadata": {
  "kernelspec": {
   "display_name": "Python 3 (ipykernel)",
   "language": "python",
   "name": "python3"
  },
  "language_info": {
   "codemirror_mode": {
    "name": "ipython",
    "version": 3
   },
   "file_extension": ".py",
   "mimetype": "text/x-python",
   "name": "python",
   "nbconvert_exporter": "python",
   "pygments_lexer": "ipython3",
   "version": "3.11.5"
  }
 },
 "nbformat": 4,
 "nbformat_minor": 5
}
