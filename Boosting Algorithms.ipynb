{
 "cells": [
  {
   "cell_type": "markdown",
   "id": "05276e78-571f-4ca7-ae96-c992c6e57fc0",
   "metadata": {},
   "source": [
    "𝐁𝐎𝐎𝐒𝐓𝐈𝐍𝐆 𝐀𝐋𝐆𝐎𝐑𝐈𝐓𝐇𝐌𝐒"
   ]
  },
  {
   "cell_type": "code",
   "execution_count": 1,
   "id": "b72e8b36-f8b6-4a6d-a9f3-65f641e67133",
   "metadata": {},
   "outputs": [
    {
     "name": "stdout",
     "output_type": "stream",
     "text": [
      "Imported Sucessfully.\n"
     ]
    }
   ],
   "source": [
    "# Importing Necessary Libraries\n",
    "\n",
    "import pandas as pd\n",
    "import numpy as np\n",
    "import matplotlib as mpl\n",
    "import matplotlib.pyplot as plt\n",
    "import seaborn as sns\n",
    "import plotly.express as px\n",
    "from sklearn.utils import resample\n",
    "from sklearn.preprocessing import StandardScaler, LabelEncoder, OneHotEncoder\n",
    "from sklearn.compose import ColumnTransformer\n",
    "from sklearn.pipeline import Pipeline\n",
    "from sklearn.neighbors import KNeighborsClassifier\n",
    "from sklearn.metrics import accuracy_score, classification_report\n",
    "from sklearn.model_selection import train_test_split\n",
    "from sklearn.tree import DecisionTreeClassifier\n",
    "import scipy.stats as st\n",
    "\n",
    "%matplotlib inline\n",
    "print(\"Imported Sucessfully.\")"
   ]
  },
  {
   "cell_type": "code",
   "execution_count": 2,
   "id": "8a41de08-837f-40d2-aec2-dcc41fd61c0a",
   "metadata": {},
   "outputs": [
    {
     "name": "stdout",
     "output_type": "stream",
     "text": [
      "Online Fraud Detection Data Loaded Successfully.\n"
     ]
    }
   ],
   "source": [
    "# Loading The Dataset\n",
    "\n",
    "opfd=pd.read_csv(\"C:/Users/deeks/Downloads/onlinefraud.csv\", encoding=\"latin1\")\n",
    "print(\"Online Fraud Detection Data Loaded Successfully.\")"
   ]
  },
  {
   "cell_type": "code",
   "execution_count": 3,
   "id": "87cc2d8e-2b7b-4b29-91d4-547ce4edadbf",
   "metadata": {},
   "outputs": [
    {
     "name": "stdout",
     "output_type": "stream",
     "text": [
      "   step  type    amount     nameOrig  oldbalanceOrg  newbalanceOrig  \\\n",
      "0     1     2   9839.64  C1231006815       170136.0       160296.36   \n",
      "1     1     2   1864.28  C1666544295        21249.0        19384.72   \n",
      "2     1     4    181.00  C1305486145          181.0            0.00   \n",
      "3     1     1    181.00   C840083671          181.0            0.00   \n",
      "4     1     2  11668.14  C2048537720        41554.0        29885.86   \n",
      "\n",
      "      nameDest  oldbalanceDest  newbalanceDest   isFraud  isFlaggedFraud  \n",
      "0  M1979787155             0.0             0.0  No Fraud               0  \n",
      "1  M2044282225             0.0             0.0  No Fraud               0  \n",
      "2   C553264065             0.0             0.0     Fraud               0  \n",
      "3    C38997010         21182.0             0.0     Fraud               0  \n",
      "4  M1230701703             0.0             0.0  No Fraud               0  \n"
     ]
    }
   ],
   "source": [
    "# Convert categorical features to numerical values.\n",
    "# Change 'isFraud' column to 'No Fraud' And 'Fraud' Labels.\n",
    "# Map Transaction Types: CASH_OUT to 1, PAYMENT to 2, CASH_IN to 3, TRANSFER to 4, DEBIT to 5.\n",
    "\n",
    "opfd[\"type\"] = opfd[\"type\"].map({\"CASH_OUT\": 1, \"PAYMENT\": 2, \"CASH_IN\": 3, \"TRANSFER\": 4, \"DEBIT\": 5})\n",
    "opfd[\"isFraud\"] = opfd[\"isFraud\"].map({0: \"No Fraud\", 1: \"Fraud\"})\n",
    "print(opfd.head())"
   ]
  },
  {
   "cell_type": "code",
   "execution_count": 4,
   "id": "d5ba37cf-bcde-49b6-9a96-ce122bacb028",
   "metadata": {},
   "outputs": [
    {
     "name": "stdout",
     "output_type": "stream",
     "text": [
      "AdaBoost Model Accuracy: 0.9990367926147743\n",
      "              precision    recall  f1-score   support\n",
      "\n",
      "       Fraud       0.81      0.18      0.29       117\n",
      "    No Fraud       1.00      1.00      1.00    104741\n",
      "\n",
      "    accuracy                           1.00    104858\n",
      "   macro avg       0.90      0.59      0.65    104858\n",
      "weighted avg       1.00      1.00      1.00    104858\n",
      "\n"
     ]
    }
   ],
   "source": [
    "# AdaBoost\n",
    "\n",
    "from sklearn.ensemble import AdaBoostClassifier\n",
    "\n",
    "# Define Features (X) And Target Variable (y)\n",
    "\n",
    "X = opfd[[\"type\", \"amount\", \"oldbalanceOrg\", \"newbalanceOrig\"]]\n",
    "y = opfd[\"isFraud\"]\n",
    "\n",
    "# Split The Data Into Training And Testing Sets\n",
    "\n",
    "X_train, X_test, y_train, y_test = train_test_split(X, y, test_size=0.10, random_state=42)\n",
    "\n",
    "# Create An AdaBoost Classifier\n",
    "\n",
    "adaboost_model = AdaBoostClassifier(n_estimators=50, random_state=42)\n",
    "\n",
    "# Train The Model\n",
    "\n",
    "adaboost_model.fit(X_train, y_train)\n",
    "\n",
    "# Evaluate The Model\n",
    "\n",
    "adaboost_accuracy = adaboost_model.score(X_test, y_test)\n",
    "print(f\"AdaBoost Model Accuracy: {adaboost_accuracy}\")\n",
    "\n",
    "# Make Predictions\n",
    "\n",
    "adaboost_predictions = adaboost_model.predict(X_test)\n",
    "\n",
    "# Additional Evaluation Metrics\n",
    "\n",
    "print(classification_report(y_test, adaboost_predictions))"
   ]
  },
  {
   "cell_type": "code",
   "execution_count": 5,
   "id": "f728dbdc-62a5-4263-930b-9ed32c01aa12",
   "metadata": {},
   "outputs": [
    {
     "name": "stdout",
     "output_type": "stream",
     "text": [
      "Gradient Boosting Model Accuracy: 0.9989223521333613\n",
      "              precision    recall  f1-score   support\n",
      "\n",
      "       Fraud       0.62      0.09      0.15       117\n",
      "    No Fraud       1.00      1.00      1.00    104741\n",
      "\n",
      "    accuracy                           1.00    104858\n",
      "   macro avg       0.81      0.54      0.57    104858\n",
      "weighted avg       1.00      1.00      1.00    104858\n",
      "\n"
     ]
    }
   ],
   "source": [
    "# Gradient Boost\n",
    "\n",
    "from sklearn.ensemble import GradientBoostingClassifier\n",
    "\n",
    "# Create A Gradient Boosting Classifier\n",
    "\n",
    "gradient_boost_model = GradientBoostingClassifier(n_estimators=100, random_state=42)\n",
    "\n",
    "# Train The Model\n",
    "\n",
    "gradient_boost_model.fit(X_train, y_train)\n",
    "\n",
    "# Evaluate The Model\n",
    "\n",
    "gradient_boost_accuracy = gradient_boost_model.score(X_test, y_test)\n",
    "print(f\"Gradient Boosting Model Accuracy: {gradient_boost_accuracy}\")\n",
    "\n",
    "# Make Predictions\n",
    "\n",
    "gradient_boost_predictions = gradient_boost_model.predict(X_test)\n",
    "\n",
    "# Additional Evaluation Metrics\n",
    "\n",
    "print(classification_report(y_test, gradient_boost_predictions))"
   ]
  }
 ],
 "metadata": {
  "kernelspec": {
   "display_name": "Python 3 (ipykernel)",
   "language": "python",
   "name": "python3"
  },
  "language_info": {
   "codemirror_mode": {
    "name": "ipython",
    "version": 3
   },
   "file_extension": ".py",
   "mimetype": "text/x-python",
   "name": "python",
   "nbconvert_exporter": "python",
   "pygments_lexer": "ipython3",
   "version": "3.11.5"
  }
 },
 "nbformat": 4,
 "nbformat_minor": 5
}
